{
 "cells": [
  {
   "cell_type": "markdown",
   "metadata": {},
   "source": [
    "# นี่คือการจดบันทึก"
   ]
  },
  {
   "cell_type": "markdown",
   "metadata": {},
   "source": [
    "# OOP"
   ]
  },
  {
   "cell_type": "markdown",
   "metadata": {},
   "source": [
    "# เปิดเรื่อง"
   ]
  },
  {
   "cell_type": "code",
   "execution_count": 1,
   "metadata": {
    "scrolled": true
   },
   "outputs": [
    {
     "name": "stdout",
     "output_type": "stream",
     "text": [
      "<class 'int'>\n"
     ]
    }
   ],
   "source": [
    "x=1\n",
    "print(type(x))"
   ]
  },
  {
   "cell_type": "code",
   "execution_count": 2,
   "metadata": {
    "scrolled": true
   },
   "outputs": [
    {
     "name": "stdout",
     "output_type": "stream",
     "text": [
      "<class 'function'>\n"
     ]
    }
   ],
   "source": [
    "def hello():\n",
    "    print(\"hell\")\n",
    "print(type(hello))"
   ]
  },
  {
   "cell_type": "code",
   "execution_count": 4,
   "metadata": {
    "scrolled": true
   },
   "outputs": [
    {
     "name": "stdout",
     "output_type": "stream",
     "text": [
      "HELLO\n"
     ]
    }
   ],
   "source": [
    "s = \"hello\"\n",
    "print(s.upper())"
   ]
  },
  {
   "cell_type": "markdown",
   "metadata": {},
   "source": [
    ".upper() เรียกว่า method , ส่วนพวกที่อยู่ในวงเล็บหลัง upper เรียกว่า argument"
   ]
  },
  {
   "cell_type": "markdown",
   "metadata": {},
   "source": [
    "upper ทำงานให้กับ s (ซึ่ง S เป็น string) และ upper ทำงานให้กับ string เท่านั้น"
   ]
  },
  {
   "cell_type": "code",
   "execution_count": 5,
   "metadata": {
    "scrolled": true
   },
   "outputs": [
    {
     "ename": "AttributeError",
     "evalue": "'int' object has no attribute 'upper'",
     "output_type": "error",
     "traceback": [
      "\u001b[1;31m---------------------------------------------------------------------------\u001b[0m",
      "\u001b[1;31mAttributeError\u001b[0m                            Traceback (most recent call last)",
      "\u001b[1;32m<ipython-input-5-0b4b7f85eccd>\u001b[0m in \u001b[0;36m<module>\u001b[1;34m\u001b[0m\n\u001b[0;32m      1\u001b[0m \u001b[0mx\u001b[0m \u001b[1;33m=\u001b[0m \u001b[1;36m1\u001b[0m\u001b[1;33m\u001b[0m\u001b[1;33m\u001b[0m\u001b[0m\n\u001b[1;32m----> 2\u001b[1;33m \u001b[0mprint\u001b[0m\u001b[1;33m(\u001b[0m\u001b[0mx\u001b[0m\u001b[1;33m.\u001b[0m\u001b[0mupper\u001b[0m\u001b[1;33m(\u001b[0m\u001b[1;33m)\u001b[0m\u001b[1;33m)\u001b[0m\u001b[1;33m\u001b[0m\u001b[1;33m\u001b[0m\u001b[0m\n\u001b[0m",
      "\u001b[1;31mAttributeError\u001b[0m: 'int' object has no attribute 'upper'"
     ]
    }
   ],
   "source": [
    "x = 1\n",
    "print(x.upper())"
   ]
  },
  {
   "cell_type": "markdown",
   "metadata": {},
   "source": [
    "และถ้าเปลี่ยนให้ upper ไปทำงานให้กับ int ก็จะ error"
   ]
  },
  {
   "cell_type": "markdown",
   "metadata": {},
   "source": [
    "# ลองสร้าง class เอง"
   ]
  },
  {
   "cell_type": "code",
   "execution_count": 7,
   "metadata": {
    "scrolled": true
   },
   "outputs": [
    {
     "name": "stdout",
     "output_type": "stream",
     "text": [
      "<class '__main__.dog'>\n"
     ]
    }
   ],
   "source": [
    "class dog():\n",
    "    def bark(self):\n",
    "        print(\"kakkkkkkkk\")\n",
    "d = dog()\n",
    "print(type(d))"
   ]
  },
  {
   "cell_type": "markdown",
   "metadata": {},
   "source": [
    "สร้าง class dog เพื่อสร้างเป็น blueprint สำหรับทุก object ที่เป็น type dog  \n",
    "แล้วสร้าง method ที่เป็น def ภายใน class เพื่อบอกว่า dog ทำอะไรได้บ้าง (อย่างน้อยก็ bark ได้)\n",
    "แล้วสร้างตัวแปร d แล้วกำหนดให้ d เป็น class dog\n",
    "__main__ เป็น module default ของ class"
   ]
  },
  {
   "cell_type": "code",
   "execution_count": 9,
   "metadata": {},
   "outputs": [
    {
     "name": "stdout",
     "output_type": "stream",
     "text": [
      "kakkkkkkkk\n"
     ]
    }
   ],
   "source": [
    "d.bark()"
   ]
  },
  {
   "cell_type": "markdown",
   "metadata": {},
   "source": [
    "เรียก method bark สำหรับ dog object (เรียกให้ dog bark)"
   ]
  },
  {
   "cell_type": "markdown",
   "metadata": {},
   "source": [
    "# ลองเพิ่มเข้าไปว่า class dog ทำอะไรได้อีก"
   ]
  },
  {
   "cell_type": "code",
   "execution_count": 14,
   "metadata": {},
   "outputs": [
    {
     "name": "stdout",
     "output_type": "stream",
     "text": [
      "6\n"
     ]
    }
   ],
   "source": [
    "class dog():\n",
    "    def add_one(self,x):\n",
    "        return x+1\n",
    "    def bark(self):\n",
    "        print(\"kakkkkkkkk\")\n",
    "d = dog()\n",
    "print(d.add_one(5))"
   ]
  },
  {
   "cell_type": "markdown",
   "metadata": {},
   "source": [
    "เพิ่ม parameter x เข้าไปใน add_one เพื่อให้เป็นที่ว่างไว้ใส่ค่า"
   ]
  },
  {
   "cell_type": "code",
   "execution_count": null,
   "metadata": {},
   "outputs": [],
   "source": [
    "class dog():\n",
    "    def __init__(self):\n",
    "        pass\n",
    "d = dog() "
   ]
  },
  {
   "cell_type": "markdown",
   "metadata": {},
   "source": [
    "__init__ เป็น method พิเศษ ซึ่งจะทำงานทันทีเมื่อเราพิม dog() เฉย ๆ และ pass ทุก argument ที่ปรากฏใน () เข้าไปทันที"
   ]
  },
  {
   "cell_type": "code",
   "execution_count": 17,
   "metadata": {
    "scrolled": true
   },
   "outputs": [
    {
     "name": "stdout",
     "output_type": "stream",
     "text": [
      "tim\n",
      "bill\n"
     ]
    }
   ],
   "source": [
    "class dog():\n",
    "    def __init__(self , name):\n",
    "        self.name = name\n",
    "        print(name)\n",
    "        pass\n",
    "d = dog(\"tim\") \n",
    "d2 = dog(\"bill\")"
   ]
  },
  {
   "cell_type": "markdown",
   "metadata": {},
   "source": [
    "ลองใส่ parameter \"name\" เข้าไปใน __init__ แล้วใส่ชื่อ tim เข้าไปเป็นค่า\n",
    "self.name เป็น attribute ของ class dog ชื่อว่า name ไว้เก็บค่าที่ใส่เข้าไปในแต่ละครั้ง\n",
    "self.name = name ก็คือการกำหนดให้ attribute ที่ชื่อว่า name ให้เท่ากับ name ที่ใส่ค่าเข้าไป\n",
    "ทุกครั้งที่เรียก dog จะต้องมีชื่อและต้องใส่ชื่อเข้าไปใน parameter\n",
    "ดังนั้น self ก็คือ object itself"
   ]
  },
  {
   "cell_type": "code",
   "execution_count": 19,
   "metadata": {
    "scrolled": true
   },
   "outputs": [
    {
     "name": "stdout",
     "output_type": "stream",
     "text": [
      "tim\n",
      "bill\n"
     ]
    }
   ],
   "source": [
    "class dog():\n",
    "    def __init__(self , name):\n",
    "        self.name = name\n",
    "        pass\n",
    "d = dog(\"tim\") \n",
    "print(d.name)\n",
    "d2 = dog(\"bill\")\n",
    "print(d2.name)"
   ]
  },
  {
   "cell_type": "markdown",
   "metadata": {},
   "source": [
    "ทำแบบนี้ก็ได้ผลเหมือนกัน"
   ]
  },
  {
   "cell_type": "code",
   "execution_count": 20,
   "metadata": {
    "scrolled": true
   },
   "outputs": [
    {
     "name": "stdout",
     "output_type": "stream",
     "text": [
      "tim\n",
      "bill\n"
     ]
    }
   ],
   "source": [
    "class dog():\n",
    "    def __init__(self , name):\n",
    "        self.name = name\n",
    "        pass\n",
    "    def get_name(self):\n",
    "        return self.name\n",
    "    \n",
    "d = dog(\"tim\") \n",
    "print(d.get_name())\n",
    "d2 = dog(\"bill\")\n",
    "print(d2.get_name())"
   ]
  },
  {
   "cell_type": "markdown",
   "metadata": {},
   "source": [
    "ทำแบบนี้ก็ได้ผลเหมือนกัน"
   ]
  }
 ],
 "metadata": {
  "kernelspec": {
   "display_name": "Python 3",
   "language": "python",
   "name": "python3"
  },
  "language_info": {
   "codemirror_mode": {
    "name": "ipython",
    "version": 3
   },
   "file_extension": ".py",
   "mimetype": "text/x-python",
   "name": "python",
   "nbconvert_exporter": "python",
   "pygments_lexer": "ipython3",
   "version": "3.8.5"
  }
 },
 "nbformat": 4,
 "nbformat_minor": 4
}
